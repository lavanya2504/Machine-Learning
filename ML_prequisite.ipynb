{
 "cells": [
  {
   "cell_type": "markdown",
   "id": "ecfb969a",
   "metadata": {},
   "source": [
    "Q1. How many multiplications and additions do you need to perform a matrix multiplication between a (n, k) and (k, m) matrix? Explain."
   ]
  },
  {
   "cell_type": "markdown",
   "id": "0f7c531d",
   "metadata": {},
   "source": [
    "Matrix multiplication involves multiplying elements from the rows of the first matrix with the corresponding elements from the columns of the second matrix and summing up these products to obtain the elements of the resulting matrix.\n",
    "\n",
    "After multiplying a(n,k) and b(k,m), we get c(n,m).\n",
    "Here,c[i][j] = a[i][0]*b[0][j] + a[i][1]*b[1][j] + ... + a[i][k]*b[k][j]\n",
    "To calculate each element of the matrix c, we perform k multiplication and (k-1) addition operations. \n",
    "Also, the number of elements in the matrix c = n*m\n",
    "Therefore, \n",
    "1. the total no. of multiplications = k*n*m\n",
    "2. the total no. of additions = (k - 1)*n*m"
   ]
  },
  {
   "cell_type": "markdown",
   "id": "a1585490",
   "metadata": {},
   "source": [
    "Q2. Write Python code to multiply the above two matrices. Solve using list of lists and then use numpy. Compare the timing of both solutions. Which one is faster? Why?"
   ]
  },
  {
   "cell_type": "code",
   "execution_count": 43,
   "id": "7f7b5a3f",
   "metadata": {},
   "outputs": [
    {
     "name": "stdout",
     "output_type": "stream",
     "text": [
      "[[6, 17, 11, 8], [31, 77, 46, 33], [21, 53, 32, 23]]\n",
      "time taken using list= 0.0\n",
      "time taken using numpy= 0.0\n",
      "Time taken by numpy is less than the time taken by the method of list of lists\n",
      "Numpy is faster because in the method of list of lists, three nested for loops were used which imply a cubic time complexity, resulting in increased computatioanl time, whereas NumPy's optimized and vectorized operations lead to a more efficient implementation with a lower time complexity.\n"
     ]
    }
   ],
   "source": [
    "import time\n",
    "import numpy as np\n",
    "matrix1= [[1,2],[6,7],[4,5]]\n",
    "matrix2= [[4,7,3,2],[1,5,4,3]]\n",
    "matrix3=[[0,0,0,0],[0,0,0,0],[0,0,0,0]]\n",
    "\n",
    "start_time1= time.time()\n",
    "for i in range(len(matrix1)):\n",
    "  for k in range(len(matrix2[0])):\n",
    "    for j in range(len(matrix2)):\n",
    "\n",
    "      matrix3[i][k]= matrix3[i][k] + matrix1[i][j]*matrix2[j][k]\n",
    "\n",
    "print(matrix3)\n",
    "end_time1= time.time()\n",
    "\n",
    "print(\"time taken using list=\", end_time1 - start_time1)\n",
    "\n",
    "matrix_1 = np.array(matrix1)\n",
    "matrix_2= np.array(matrix2)\n",
    "\n",
    "start_time2= time.time()\n",
    "matrix_3= np.dot(matrix_1, matrix_2)\n",
    "end_time2= time.time()\n",
    "\n",
    "print(\"time taken using numpy=\", end_time2 - start_time2)\n",
    "\n",
    "print(\"Time taken by numpy is less than the time taken by the method of list of lists\")\n",
    "print(\"Numpy is faster because in the method of list of lists, three nested for loops were used which imply a cubic time complexity, resulting in increased computatioanl time, whereas NumPy's optimized and vectorized operations lead to a more efficient implementation with a lower time complexity.\")\n"
   ]
  },
  {
   "cell_type": "markdown",
   "id": "0066e0d4",
   "metadata": {},
   "source": [
    "Q3. Finding the highest element in a list requires one pass of the array. Finding the second highest element requires 2 passes of the the array. Using this method, what is the time complexity of finding the median of the array? Can you suggest a better method? Can you implement both these methods in Python and compare against numpy.median routine in terms of time?"
   ]
  },
  {
   "cell_type": "code",
   "execution_count": 44,
   "id": "4ad36d42",
   "metadata": {},
   "outputs": [
    {
     "name": "stdout",
     "output_type": "stream",
     "text": [
      "Linear approach result: 38.5\n",
      "Linear approach time: 0.0 seconds\n",
      "Sorting approach result: 38.5\n",
      "Sorting approach time:  0.0  seconds\n",
      "NumPy median result: 38.5\n",
      "NumPy median time:  0.0 seconds\n"
     ]
    }
   ],
   "source": [
    "import numpy as np\n",
    "import time\n",
    "\n",
    "def simple_median(arr):\n",
    "    n = len(arr)\n",
    "    for i in range(n // 2):\n",
    "        maximum = max(arr)\n",
    "        arr.remove(maximum)\n",
    "\n",
    "    if n % 2 == 1:\n",
    "        return max(arr)\n",
    "    else:\n",
    "        return (max(arr) + maximum) / 2\n",
    "\n",
    "\n",
    "def better_median(arr):\n",
    "    sorted_arr = sorted(arr)\n",
    "    n = len(sorted_arr)\n",
    "    if n % 2 ==1 :\n",
    "        return sorted_arr[n // 2]\n",
    "    else:\n",
    "        return (sorted_arr[n // 2 - 1] + sorted_arr[n // 2]) / 2\n",
    "\n",
    "arr= [12,45,32,45,78,31]\n",
    "\n",
    "# Compare performance\n",
    "start_time = time.time()\n",
    "result_linear = simple_median(arr.copy())\n",
    "end_time = time.time()\n",
    "\n",
    "print(\"Linear approach result:\",result_linear)\n",
    "print(\"Linear approach time:\",end_time - start_time,\"seconds\")\n",
    "\n",
    "start_time = time.time()\n",
    "result_sorting = better_median(arr.copy())\n",
    "end_time = time.time()\n",
    "\n",
    "print(\"Sorting approach result:\",result_sorting)\n",
    "print(\"Sorting approach time: \",end_time - start_time,\" seconds\")\n",
    "\n",
    "start_time = time.time()\n",
    "result_numpy = np.median(arr.copy())\n",
    "end_time = time.time()\n",
    "\n",
    "print(\"NumPy median result:\", result_numpy)\n",
    "print(\"NumPy median time: \" ,end_time - start_time,\"seconds\")\n",
    "\n",
    "\n",
    "        \n",
    "\n"
   ]
  },
  {
   "cell_type": "markdown",
   "id": "0d50e2b7",
   "metadata": {},
   "source": [
    "Q4. What is the gradient of the following function with respect to x and y?\n",
    "$$x^2y + y^3sin(x)$$"
   ]
  },
  {
   "cell_type": "markdown",
   "id": "6f65da0c",
   "metadata": {},
   "source": [
    "The gradient with respect to x is:$$2xy + y^3cos(x)$$\n",
    "The gradient with respect to y is:$$x^2 + 3y^2sin(x)$$"
   ]
  },
  {
   "cell_type": "markdown",
   "id": "8949f499",
   "metadata": {},
   "source": [
    "Q5. Use JAX to confirm the gradient evaluated by your method matches the analytical solution corresponding to a few random values of x and y"
   ]
  },
  {
   "cell_type": "code",
   "execution_count": 45,
   "id": "55468734",
   "metadata": {},
   "outputs": [
    {
     "ename": "AttributeError",
     "evalue": "partially initialized module 'jax' has no attribute 'version' (most likely due to a circular import)",
     "output_type": "error",
     "traceback": [
      "\u001b[1;31m---------------------------------------------------------------------------\u001b[0m",
      "\u001b[1;31mAttributeError\u001b[0m                            Traceback (most recent call last)",
      "Cell \u001b[1;32mIn[45], line 1\u001b[0m\n\u001b[1;32m----> 1\u001b[0m \u001b[38;5;28;01mimport\u001b[39;00m \u001b[38;5;21;01mjax\u001b[39;00m\n\u001b[0;32m      2\u001b[0m \u001b[38;5;28;01mimport\u001b[39;00m \u001b[38;5;21;01mjax\u001b[39;00m\u001b[38;5;21;01m.\u001b[39;00m\u001b[38;5;21;01mnumpy\u001b[39;00m \u001b[38;5;28;01mas\u001b[39;00m \u001b[38;5;21;01mjnp\u001b[39;00m\n\u001b[0;32m      4\u001b[0m \u001b[38;5;28;01mdef\u001b[39;00m \u001b[38;5;21mf\u001b[39m(x, y):\n",
      "File \u001b[1;32mc:\\Users\\Lavanya\\AppData\\Local\\Programs\\Python\\Python312\\Lib\\site-packages\\jax\\__init__.py:39\u001b[0m\n\u001b[0;32m     34\u001b[0m \u001b[38;5;28;01mdel\u001b[39;00m _cloud_tpu_init\n\u001b[0;32m     36\u001b[0m \u001b[38;5;66;03m# Confusingly there are two things named \"config\": the module and the class.\u001b[39;00m\n\u001b[0;32m     37\u001b[0m \u001b[38;5;66;03m# We want the exported object to be the class, so we first import the module\u001b[39;00m\n\u001b[0;32m     38\u001b[0m \u001b[38;5;66;03m# to make sure a later import doesn't overwrite the class.\u001b[39;00m\n\u001b[1;32m---> 39\u001b[0m \u001b[38;5;28;01mfrom\u001b[39;00m \u001b[38;5;21;01mjax\u001b[39;00m \u001b[38;5;28;01mimport\u001b[39;00m config \u001b[38;5;28;01mas\u001b[39;00m _config_module\n\u001b[0;32m     40\u001b[0m \u001b[38;5;28;01mdel\u001b[39;00m _config_module\n\u001b[0;32m     42\u001b[0m \u001b[38;5;66;03m# Force early import, allowing use of `jax.core` after importing `jax`.\u001b[39;00m\n",
      "File \u001b[1;32mc:\\Users\\Lavanya\\AppData\\Local\\Programs\\Python\\Python312\\Lib\\site-packages\\jax\\config.py:15\u001b[0m\n\u001b[0;32m      1\u001b[0m \u001b[38;5;66;03m# Copyright 2018 The JAX Authors.\u001b[39;00m\n\u001b[0;32m      2\u001b[0m \u001b[38;5;66;03m#\u001b[39;00m\n\u001b[0;32m      3\u001b[0m \u001b[38;5;66;03m# Licensed under the Apache License, Version 2.0 (the \"License\");\u001b[39;00m\n\u001b[1;32m   (...)\u001b[0m\n\u001b[0;32m     12\u001b[0m \u001b[38;5;66;03m# See the License for the specific language governing permissions and\u001b[39;00m\n\u001b[0;32m     13\u001b[0m \u001b[38;5;66;03m# limitations under the License.\u001b[39;00m\n\u001b[1;32m---> 15\u001b[0m \u001b[38;5;28;01mfrom\u001b[39;00m \u001b[38;5;21;01mjax\u001b[39;00m\u001b[38;5;21;01m.\u001b[39;00m\u001b[38;5;21;01m_src\u001b[39;00m\u001b[38;5;21;01m.\u001b[39;00m\u001b[38;5;21;01mconfig\u001b[39;00m \u001b[38;5;28;01mimport\u001b[39;00m config \u001b[38;5;28;01mas\u001b[39;00m _deprecated_config  \u001b[38;5;66;03m# noqa: F401\u001b[39;00m\n\u001b[0;32m     17\u001b[0m \u001b[38;5;66;03m# Deprecations\u001b[39;00m\n\u001b[0;32m     19\u001b[0m _deprecations \u001b[38;5;241m=\u001b[39m {\n\u001b[0;32m     20\u001b[0m     \u001b[38;5;66;03m# Added October 27, 2023\u001b[39;00m\n\u001b[0;32m     21\u001b[0m     \u001b[38;5;124m\"\u001b[39m\u001b[38;5;124mconfig\u001b[39m\u001b[38;5;124m\"\u001b[39m: (\n\u001b[0;32m     22\u001b[0m         \u001b[38;5;124m\"\u001b[39m\u001b[38;5;124mAccessing jax.config via the jax.config submodule is deprecated.\u001b[39m\u001b[38;5;124m\"\u001b[39m,\n\u001b[0;32m     23\u001b[0m         _deprecated_config),\n\u001b[0;32m     24\u001b[0m }\n",
      "File \u001b[1;32mc:\\Users\\Lavanya\\AppData\\Local\\Programs\\Python\\Python312\\Lib\\site-packages\\jax\\_src\\config.py:28\u001b[0m\n\u001b[0;32m     25\u001b[0m \u001b[38;5;28;01mfrom\u001b[39;00m \u001b[38;5;21;01mtyping\u001b[39;00m \u001b[38;5;28;01mimport\u001b[39;00m Any, Callable, Generic, NamedTuple, NoReturn, TypeVar\n\u001b[0;32m     26\u001b[0m \u001b[38;5;28;01mimport\u001b[39;00m \u001b[38;5;21;01mwarnings\u001b[39;00m\n\u001b[1;32m---> 28\u001b[0m \u001b[38;5;28;01mfrom\u001b[39;00m \u001b[38;5;21;01mjax\u001b[39;00m\u001b[38;5;21;01m.\u001b[39;00m\u001b[38;5;21;01m_src\u001b[39;00m \u001b[38;5;28;01mimport\u001b[39;00m lib\n\u001b[0;32m     29\u001b[0m \u001b[38;5;28;01mfrom\u001b[39;00m \u001b[38;5;21;01mjax\u001b[39;00m\u001b[38;5;21;01m.\u001b[39;00m\u001b[38;5;21;01m_src\u001b[39;00m\u001b[38;5;21;01m.\u001b[39;00m\u001b[38;5;21;01mlib\u001b[39;00m \u001b[38;5;28;01mimport\u001b[39;00m jax_jit\n\u001b[0;32m     30\u001b[0m \u001b[38;5;28;01mfrom\u001b[39;00m \u001b[38;5;21;01mjax\u001b[39;00m\u001b[38;5;21;01m.\u001b[39;00m\u001b[38;5;21;01m_src\u001b[39;00m\u001b[38;5;21;01m.\u001b[39;00m\u001b[38;5;21;01mlib\u001b[39;00m \u001b[38;5;28;01mimport\u001b[39;00m transfer_guard_lib\n",
      "File \u001b[1;32mc:\\Users\\Lavanya\\AppData\\Local\\Programs\\Python\\Python312\\Lib\\site-packages\\jax\\_src\\lib\\__init__.py:75\u001b[0m\n\u001b[0;32m     70\u001b[0m   \u001b[38;5;28;01mreturn\u001b[39;00m _jaxlib_version\n\u001b[0;32m     73\u001b[0m version_str \u001b[38;5;241m=\u001b[39m jaxlib\u001b[38;5;241m.\u001b[39mversion\u001b[38;5;241m.\u001b[39m__version__\n\u001b[0;32m     74\u001b[0m version \u001b[38;5;241m=\u001b[39m check_jaxlib_version(\n\u001b[1;32m---> 75\u001b[0m   jax_version\u001b[38;5;241m=\u001b[39m\u001b[43mjax\u001b[49m\u001b[38;5;241;43m.\u001b[39;49m\u001b[43mversion\u001b[49m\u001b[38;5;241m.\u001b[39m__version__,\n\u001b[0;32m     76\u001b[0m   jaxlib_version\u001b[38;5;241m=\u001b[39mjaxlib\u001b[38;5;241m.\u001b[39mversion\u001b[38;5;241m.\u001b[39m__version__,\n\u001b[0;32m     77\u001b[0m   minimum_jaxlib_version\u001b[38;5;241m=\u001b[39mjax\u001b[38;5;241m.\u001b[39mversion\u001b[38;5;241m.\u001b[39m_minimum_jaxlib_version)\n\u001b[0;32m     79\u001b[0m \u001b[38;5;66;03m# Before importing any C compiled modules from jaxlib, first import the CPU\u001b[39;00m\n\u001b[0;32m     80\u001b[0m \u001b[38;5;66;03m# feature guard module to verify that jaxlib was compiled in a way that only\u001b[39;00m\n\u001b[0;32m     81\u001b[0m \u001b[38;5;66;03m# uses instructions that are present on this machine.\u001b[39;00m\n\u001b[0;32m     82\u001b[0m \u001b[38;5;28;01mimport\u001b[39;00m \u001b[38;5;21;01mjaxlib\u001b[39;00m\u001b[38;5;21;01m.\u001b[39;00m\u001b[38;5;21;01mcpu_feature_guard\u001b[39;00m \u001b[38;5;28;01mas\u001b[39;00m \u001b[38;5;21;01mcpu_feature_guard\u001b[39;00m\n",
      "\u001b[1;31mAttributeError\u001b[0m: partially initialized module 'jax' has no attribute 'version' (most likely due to a circular import)"
     ]
    }
   ],
   "source": [
    "import jax\n",
    "import jax.numpy as jnp\n",
    "\n",
    "def f(x, y):\n",
    "    return (x**2)*y+(y**3)*jnp.sin(x)\n",
    "\n",
    "gradient=jax.grad(f, argnums=(0, 1))\n",
    "\n",
    "x=2.0\n",
    "y=3.0\n",
    "\n",
    "analytical= (2*x*y+y**3*jnp.cos(x),x**2+3*y*2*jnp.sin(x))\n",
    "\n",
    "jaxgradient=gradient(x,y)\n",
    "\n",
    "print(analytical)\n",
    "print(jaxgradient)"
   ]
  },
  {
   "cell_type": "markdown",
   "id": "4911d498",
   "metadata": {},
   "source": [
    "Q6. Use sympy to confirm that you obtain the same gradient analytically."
   ]
  },
  {
   "cell_type": "code",
   "execution_count": 46,
   "id": "8b510ceb",
   "metadata": {},
   "outputs": [
    {
     "data": {
      "text/latex": [
       "$\\displaystyle 2 x y + y^{3} \\cos{\\left(x \\right)}$"
      ],
      "text/plain": [
       "2*x*y + y**3*cos(x)"
      ]
     },
     "execution_count": 46,
     "metadata": {},
     "output_type": "execute_result"
    }
   ],
   "source": [
    "from sympy import *\n",
    "\n",
    "x = Symbol('x')\n",
    "y = Symbol('y')\n",
    "\n",
    "f = x**2*y + y**3*sin(x)\n",
    "\n",
    "derivative_f1 = f.diff(x)\n",
    "\n",
    "derivative_f1\n"
   ]
  },
  {
   "cell_type": "code",
   "execution_count": 47,
   "id": "955a0e55",
   "metadata": {},
   "outputs": [
    {
     "data": {
      "text/latex": [
       "$\\displaystyle x^{2} + 3 y^{2} \\sin{\\left(x \\right)}$"
      ],
      "text/plain": [
       "x**2 + 3*y**2*sin(x)"
      ]
     },
     "execution_count": 47,
     "metadata": {},
     "output_type": "execute_result"
    }
   ],
   "source": [
    "from sympy import *\n",
    "\n",
    "x = Symbol('x')\n",
    "y = Symbol('y')\n",
    "\n",
    "f = x**2*y + y**3*sin(x)\n",
    "\n",
    "derivative_f2 = f.diff(y)\n",
    "derivative_f2"
   ]
  },
  {
   "cell_type": "markdown",
   "id": "5983cd26",
   "metadata": {},
   "source": [
    "Q7. Create a Python nested dictionary to represent hierarchical information. We want to store record of students and their marks. Something like:\n",
    "2022\n",
    "Branch 1\n",
    "Roll Number: 1, Name: N, Marks:\n",
    "Maths: 100, English: 70 …\n",
    "Branch 2\n",
    "2023\n",
    "Branch 1\n",
    "Branch 2\n",
    "2024\n",
    "Branch 1\n",
    "Branch 2\n",
    "2025\n",
    "Branch 1\n",
    "Branch 2"
   ]
  },
  {
   "cell_type": "code",
   "execution_count": 21,
   "id": "4803008f",
   "metadata": {},
   "outputs": [
    {
     "name": "stdout",
     "output_type": "stream",
     "text": [
      "{2022: {'Branch 1': {'Roll no.': 1, 'Name': 'X', 'Marks': {'Maths': 99, 'English': 97}}, 'Branch 2': {'Roll no.': 2, 'Name': 'Y', 'Marks': {'Maths': 95, 'English': 98}}}, 2023: {'Branch 1': {'Roll no.': 1, 'Name': 'A', 'Marks': {'Maths': 96, 'English': 85}}, 'Branch 2': {'Roll no.': 1, 'Name': 'B', 'Marks': {'Maths': 100, 'English': 92}}}, 2024: {'Branch 1': {}, 'Branch 2': {}}, 2025: {'Branch 1': {}, 'Branch 2': {}}}\n"
     ]
    }
   ],
   "source": [
    "dict1= {2022:\n",
    "            {\"Branch 1\":\n",
    "                {\"Roll no.\":1,\"Name\": \"X\", \"Marks\":{\"Maths\":99, \"English\":97}} ,\n",
    "             \"Branch 2\":\n",
    "                {\"Roll no.\": 2,\"Name\": \"Y\", \"Marks\": { \"Maths\": 95, \"English\": 98}}},\n",
    "        2023:\n",
    "            { \"Branch 1\":\n",
    "                {\"Roll no.\":1,\"Name\": \"A\", \"Marks\":{\"Maths\":96, \"English\":85}},\n",
    "              \"Branch 2\":\n",
    "                {\"Roll no.\":1,\"Name\": \"B\", \"Marks\":{\"Maths\":100, \"English\":92}}},\n",
    "        2024: {\"Branch 1\":{}, \"Branch 2\":{}},\n",
    "        2025: {\"Branch 1\":{}, \"Branch 2\":{}}}\n",
    "print(dict1)"
   ]
  },
  {
   "cell_type": "markdown",
   "id": "56b58359",
   "metadata": {},
   "source": [
    "Q8. Store the same information using Python classes. We have an overall database which is a list of year objects. Each year contains a list of branches. Each branch contains a list of students. Each student has some properties like name, roll number and has marks in some subjects."
   ]
  },
  {
   "cell_type": "code",
   "execution_count": 48,
   "id": "731bc5e6",
   "metadata": {},
   "outputs": [
    {
     "name": "stdout",
     "output_type": "stream",
     "text": [
      "2022\n",
      "\t Branch 1\n",
      "\t\tRoll Number: 1\n",
      "\t\tName: N\n",
      "\t\tMarks: {'Maths': 100, 'English': 70}\n",
      "\t Branch 2\n",
      "2023\n",
      "\t Branch 1\n",
      "\t Branch 2\n",
      "2024\n",
      "\t Branch 1\n",
      "\t Branch 2\n",
      "2025\n",
      "\t Branch 1\n",
      "\t Branch 2\n"
     ]
    }
   ],
   "source": [
    "class Student:\n",
    "    def __init__(self, roll_number, name, marks):\n",
    "        self.roll_number = roll_number\n",
    "        self.name = name\n",
    "        self.marks = marks\n",
    "\n",
    "class Branch:\n",
    "    def __init__(self, branch):\n",
    "        self.students = []\n",
    "        self.branch = branch\n",
    "\n",
    "    def add_student(self, student):\n",
    "        self.students.append(student)\n",
    "\n",
    "class Year:\n",
    "    def __init__(self, year):\n",
    "        self.year = year\n",
    "        self.branches = []\n",
    "\n",
    "    def add_branch(self, branch):\n",
    "        self.branches.append(branch)\n",
    "\n",
    "def print_database(database):\n",
    "    for year in database:\n",
    "        print(year.year)\n",
    "        for branch in year.branches:\n",
    "            print(\"\\t\", branch.branch)\n",
    "            for student in branch.students:\n",
    "                print(\"\\t\\tRoll Number:\",student.roll_number)\n",
    "                print(\"\\t\\tName:\", student.name)\n",
    "                print(\"\\t\\tMarks:\",student.marks)\n",
    "\n",
    "student1 = Student(1, 'N', {'Maths': 100, 'English': 70})\n",
    "\n",
    "branch1_2022 = Branch(\"Branch 1\")\n",
    "branch1_2022.add_student(student1)\n",
    "\n",
    "branch2_2022 = Branch(\"Branch 2\")\n",
    "\n",
    "year_2022 = Year(2022)\n",
    "year_2022.add_branch(branch1_2022)\n",
    "year_2022.add_branch(branch2_2022)\n",
    "\n",
    "branch1_2023 = Branch(\"Branch 1\")\n",
    "branch2_2023 = Branch(\"Branch 2\")\n",
    "\n",
    "year_2023 = Year(2023)\n",
    "year_2023.add_branch(branch1_2023)\n",
    "year_2023.add_branch(branch2_2023)\n",
    "\n",
    "branch1_2024 = Branch(\"Branch 1\")\n",
    "branch2_2024 = Branch(\"Branch 2\")\n",
    "\n",
    "year_2024 = Year(2024)\n",
    "year_2024.add_branch(branch1_2024)\n",
    "year_2024.add_branch(branch2_2024)\n",
    "\n",
    "branch1_2025 = Branch(\"Branch 1\")\n",
    "branch2_2025 = Branch(\"Branch 2\")\n",
    "\n",
    "year_2025 = Year(2025)\n",
    "year_2025.add_branch(branch1_2025)\n",
    "year_2025.add_branch(branch2_2025)\n",
    "\n",
    "database = [year_2022, year_2023, year_2024, year_2025]\n",
    "\n",
    "print_database(database)\n"
   ]
  },
  {
   "cell_type": "markdown",
   "id": "260b9958",
   "metadata": {},
   "source": [
    "Q9. Using matplotlib plot the following functions on the domain: x = 0.5 to 100.0 in steps of 0.5.\n",
    "$$y = x$$\n",
    "$$y = x^2$$\n",
    "$$y = x^3/100$$ \n",
    "$$y = sin(x)$$ \n",
    "$$y = sin(x)/x$$ \n",
    "$$y = log(x)$$\n",
    "$$y = e^x$$"
   ]
  },
  {
   "cell_type": "code",
   "execution_count": 49,
   "id": "a1deddff",
   "metadata": {},
   "outputs": [
    {
     "data": {
      "image/png": "[encoded data removed]",
      "text/plain": [
       "<Figure size 640x480 with 7 Axes>"
      ]
     },
     "metadata": {},
     "output_type": "display_data"
    }
   ],
   "source": [
    "import matplotlib.pyplot as plt\n",
    "import numpy as np\n",
    "\n",
    "x = np.arange(0.5, 100.5, 0.5)\n",
    "y_values1 = x\n",
    "y_values2= np.sin(x)\n",
    "y_values3= x**2\n",
    "y_values4= (x**3)/100\n",
    "y_values5= np.sin(x)/x\n",
    "y_values6= np.log(x)\n",
    "y_values7= np.exp(x)\n",
    "\n",
    "plt.subplot(3,3,1)\n",
    "plt.plot(x,y_values1)\n",
    "plt.title(\"y=x\")\n",
    "\n",
    "plt.subplot(3,3,2)\n",
    "plt.plot(x, y_values2)\n",
    "plt.title(\"y= sin(x)\")\n",
    "\n",
    "plt.subplot(3,3,3)\n",
    "plt.plot(x, y_values3)\n",
    "plt.title(\"y = x^2\")\n",
    "\n",
    "plt.subplot(3,3,4)\n",
    "plt.plot(x, y_values4)\n",
    "plt.title( \"y = x^3/100\")\n",
    "\n",
    "plt.subplot(3,3,5)\n",
    "plt.plot(x, y_values5)\n",
    "plt.title( \"y= sin(x)/x\")\n",
    "\n",
    "plt.subplot(3,3,6)\n",
    "plt.plot(x, y_values6)\n",
    "plt.title(\"y= logx\")\n",
    "\n",
    "plt.subplot(3,3,7)\n",
    "plt.plot(x,y_values7)\n",
    "plt.title(\"y = e^x\")\n",
    "\n",
    "plt.tight_layout()"
   ]
  },
  {
   "cell_type": "markdown",
   "id": "a0cdccc7",
   "metadata": {},
   "source": [
    "Q10. Using numpy generate a matrix of size 20X5 containing random numbers drawn uniformly from the range of 1 to 2. Using Pandas create a dataframe out of this matrix. Name the columns of the dataframe as “a”, “b”, “c”, “d”, “e”. Find the column with the highest standard deviation. Find the row with the lowest mean."
   ]
  },
  {
   "cell_type": "code",
   "execution_count": 50,
   "id": "fee84811",
   "metadata": {},
   "outputs": [
    {
     "name": "stdout",
     "output_type": "stream",
     "text": [
      "Column with highest standard deviation =  e\n",
      "Row with lowest mean =  5\n"
     ]
    }
   ],
   "source": [
    "import numpy as np\n",
    "import pandas as pd\n",
    "\n",
    "np.random.seed(50)\n",
    "\n",
    "matrix= np.random.uniform(1,2,(20,5))\n",
    "df1= pd.DataFrame( matrix, columns=[\"a\",\"b\",\"c\",\"d\",\"e\"])\n",
    "col_highest_std = df1.std().idxmax()\n",
    "row_lowest_mean = df1.mean(axis=1).idxmin()\n",
    "print(\"Column with highest standard deviation = \",col_highest_std)\n",
    "print(\"Row with lowest mean = \",row_lowest_mean)"
   ]
  },
  {
   "cell_type": "markdown",
   "id": "c415d14c",
   "metadata": {},
   "source": [
    "Q11. Add a new column to the dataframe called “f” which is the sum of the columns “a”, “b”, “c”, “d”, “e”. Create another column called “g”. The value in the column “g” should be “LT8” if the value in the column “f” is less than 8 and “GT8” otherwise. Find the number of rows in the dataframe where the value in the column “g” is “LT8”. Find the standard deviation of the column “f” for the rows where the value in the column “g” is “LT8” and “GT8” respectively.\n",
    "\n"
   ]
  },
  {
   "cell_type": "code",
   "execution_count": 51,
   "id": "b0fafd3f",
   "metadata": {},
   "outputs": [
    {
     "name": "stdout",
     "output_type": "stream",
     "text": [
      "number of rows where the value in the column “g” is “LT8”:  13\n",
      "standard deviation with values LT8: 0.46764363892204025\n",
      "standard deviation with values GT8: 0.2419223402331715\n"
     ]
    }
   ],
   "source": [
    "import numpy as np\n",
    "import pandas as pd\n",
    "\n",
    "np.random.seed(50)\n",
    "\n",
    "matrix= np.random.uniform(1,2,(20,5))\n",
    "df1= pd.DataFrame( matrix, columns=[\"a\",\"b\",\"c\",\"d\",\"e\"])\n",
    "df1[\"f\"] = df1[\"a\"] + df1[\"b\"] + df1[\"c\"] + df1[\"d\"] + df1[\"e\"]\n",
    "df1['g'] = np.where(df1['f'] < 8, 'LT8', 'GT8')\n",
    "\n",
    "df2= df1[df1[\"g\"]== \"LT8\"]\n",
    "rows_num= df2.shape[0]\n",
    "print(\"number of rows where the value in the column “g” is “LT8”: \",rows_num)\n",
    "\n",
    "df3= df1[df1[\"g\"]==\"GT8\"]\n",
    "\n",
    "std1= df2[\"f\"].std()\n",
    "std2= df3[\"f\"].std()\n",
    "\n",
    "print(\"standard deviation with values LT8:\",std1)\n",
    "print(\"standard deviation with values GT8:\",std2)"
   ]
  },
  {
   "cell_type": "markdown",
   "id": "0130c5f1",
   "metadata": {},
   "source": [
    "Q12. Write a small piece of code to explain broadcasting in numpy.\n",
    "\n"
   ]
  },
  {
   "cell_type": "code",
   "execution_count": 52,
   "id": "966ec46b",
   "metadata": {},
   "outputs": [
    {
     "name": "stdout",
     "output_type": "stream",
     "text": [
      "[14 35 49 63]\n"
     ]
    }
   ],
   "source": [
    "#We have a scalar value (7) and an array (arr1). When we perform a multiplication operation, the scalar value is broadcasted to each element of the array.\n",
    "import numpy as np\n",
    "arr1= np.array([2,5,7,9])\n",
    "x=7\n",
    "arr2= x*arr1\n",
    "print(arr2)"
   ]
  },
  {
   "cell_type": "markdown",
   "id": "69418cd0",
   "metadata": {},
   "source": [
    "Q13. Write a function to compute the argmin of a numpy array. The function should take a numpy array as input and return the index of the minimum element. You can use the np.argmin function to verify your solution."
   ]
  },
  {
   "cell_type": "code",
   "execution_count": 53,
   "id": "b12d5ecd",
   "metadata": {},
   "outputs": [
    {
     "name": "stdout",
     "output_type": "stream",
     "text": [
      "index of the minimum element using function= 3\n",
      "index of minimum element using argmin= 3\n",
      "The results match\n"
     ]
    }
   ],
   "source": [
    "import numpy as np\n",
    "\n",
    "\n",
    "def idx_min(arr):\n",
    "\n",
    "  min_value = arr[0]\n",
    "  min_index = 0\n",
    "\n",
    "  for i in range(len(arr1)-1):\n",
    "    if arr[i]< min_value:\n",
    "      min_value= arr[i]\n",
    "      min_index= i\n",
    "  return min_index\n",
    "\n",
    "arr1= [3,7,4,1,2,5,6,9,3]\n",
    "min_index= idx_min(arr1)\n",
    "print(\"index of the minimum element using function=\",min_index)\n",
    "min_index1= np.argmin(arr1)\n",
    "print(\"index of minimum element using argmin=\",min_index1)\n",
    "\n",
    "if min_index==min_index1:\n",
    "  print(\"The results match\")\n",
    "else:\n",
    "  print(\"The results do not match\")"
   ]
  }
 ],
 "metadata": {
  "kernelspec": {
   "display_name": "Python 3 (ipykernel)",
   "language": "python",
   "name": "python3"
  },
  "language_info": {
   "codemirror_mode": {
    "name": "ipython",
    "version": 3
   },
   "file_extension": ".py",
   "mimetype": "text/x-python",
   "name": "python",
   "nbconvert_exporter": "python",
   "pygments_lexer": "ipython3",
   "version": "3.12.1"
  }
 },
 "nbformat": 4,
 "nbformat_minor": 5
}
